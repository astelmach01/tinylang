{
 "cells": [
  {
   "cell_type": "code",
   "execution_count": 1,
   "id": "initial_id",
   "metadata": {
    "collapsed": true,
    "ExecuteTime": {
     "end_time": "2023-10-24T04:48:56.515826Z",
     "start_time": "2023-10-24T04:48:56.465158Z"
    }
   },
   "outputs": [
    {
     "data": {
      "text/plain": "{'name': 'add',\n 'description': None,\n 'parameters': {'properties': {'a': {'type': 'integer'},\n   'b': {'type': 'integer'}},\n  'required': ['a', 'b'],\n  'type': 'object'}}"
     },
     "execution_count": 1,
     "metadata": {},
     "output_type": "execute_result"
    }
   ],
   "source": [
    "from tinylang.functions import function\n",
    "\n",
    "\n",
    "@function\n",
    "def add(a: int, b: int):\n",
    "    return a + b\n",
    "\n",
    "\n",
    "add"
   ]
  },
  {
   "cell_type": "code",
   "execution_count": null,
   "outputs": [],
   "source": [],
   "metadata": {
    "collapsed": false
   },
   "id": "21ef0f8092812a6"
  }
 ],
 "metadata": {
  "kernelspec": {
   "display_name": "Python 3",
   "language": "python",
   "name": "python3"
  },
  "language_info": {
   "codemirror_mode": {
    "name": "ipython",
    "version": 2
   },
   "file_extension": ".py",
   "mimetype": "text/x-python",
   "name": "python",
   "nbconvert_exporter": "python",
   "pygments_lexer": "ipython2",
   "version": "2.7.6"
  }
 },
 "nbformat": 4,
 "nbformat_minor": 5
}
