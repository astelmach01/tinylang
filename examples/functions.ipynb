{
 "cells": [
  {
   "cell_type": "code",
   "execution_count": 2,
   "id": "8f8430b2a2ff7685",
   "metadata": {
    "ExecuteTime": {
     "end_time": "2023-10-24T05:32:19.120808Z",
     "start_time": "2023-10-24T05:32:18.944714Z"
    },
    "collapsed": true
   },
   "outputs": [],
   "source": [
    "from tinylang.functions import function\n",
    "from tinylang.chains import Chain\n",
    "from tinylang.llms import OpenAI\n",
    "from dotenv import load_dotenv, find_dotenv\n",
    "import os"
   ]
  },
  {
   "cell_type": "code",
   "execution_count": 3,
   "id": "b2b8ceeb73899b0d",
   "metadata": {
    "ExecuteTime": {
     "end_time": "2023-10-24T05:32:25.971077Z",
     "start_time": "2023-10-24T05:32:25.966429Z"
    },
    "collapsed": false
   },
   "outputs": [],
   "source": [
    "load_dotenv(find_dotenv())\n",
    "\n",
    "openai_api_key = os.environ[\"OPENAI_API_KEY\"]\n",
    "openai_organization = os.environ[\"OPENAI_ORGANIZATION\"]"
   ]
  },
  {
   "cell_type": "code",
   "execution_count": 4,
   "id": "1e292baafb265896",
   "metadata": {
    "ExecuteTime": {
     "end_time": "2023-10-24T05:32:36.304821Z",
     "start_time": "2023-10-24T05:32:36.298674Z"
    },
    "collapsed": false
   },
   "outputs": [],
   "source": [
    "model = \"gpt-3.5-turbo\"\n",
    "\n",
    "chatGPT = OpenAI(\n",
    "    openai_api_key=openai_api_key,\n",
    "    openai_organization=openai_organization,\n",
    "    model=model,\n",
    ")"
   ]
  },
  {
   "cell_type": "code",
   "execution_count": 5,
   "id": "initial_id",
   "metadata": {
    "ExecuteTime": {
     "end_time": "2023-10-24T05:32:56.047822Z",
     "start_time": "2023-10-24T05:32:56.045470Z"
    },
    "collapsed": false
   },
   "outputs": [
    {
     "data": {
      "text/plain": [
       "[<function __main__.add(a: int, b: int)>,\n",
       " <function __main__.subtract(a: int, b: int)>]"
      ]
     },
     "execution_count": 5,
     "metadata": {},
     "output_type": "execute_result"
    }
   ],
   "source": [
    "\n",
    "@function\n",
    "def add(a: int, b: int):\n",
    "    \"\"\"\n",
    "    Adds two numbers\n",
    "    \"\"\"\n",
    "    return a + b\n",
    "\n",
    "@function\n",
    "def subtract(a: int, b: int):\n",
    "    \"\"\"\n",
    "    Subtracts two numbers\n",
    "    \"\"\"\n",
    "    return a - b\n",
    "\n",
    "\n",
    "\n",
    "functions = [add.metadata, subtract.metadata]\n",
    "functions"
   ]
  },
  {
   "cell_type": "code",
   "execution_count": 6,
   "id": "21ef0f8092812a6",
   "metadata": {
    "collapsed": false
   },
   "outputs": [],
   "source": [
    "chain = Chain(\n",
    "    llm=chatGPT,\n",
    ")\n",
    "\n",
    "res = chain.run(\"What is 2 + 2\", functions=functions)"
   ]
  },
  {
   "cell_type": "code",
   "execution_count": 8,
   "id": "aed0d481",
   "metadata": {},
   "outputs": [
    {
     "data": {
      "text/plain": [
       "NoneType"
      ]
     },
     "execution_count": 8,
     "metadata": {},
     "output_type": "execute_result"
    }
   ],
   "source": [
    "type(res)"
   ]
  }
 ],
 "metadata": {
  "kernelspec": {
   "display_name": "Python 3",
   "language": "python",
   "name": "python3"
  },
  "language_info": {
   "codemirror_mode": {
    "name": "ipython",
    "version": 3
   },
   "file_extension": ".py",
   "mimetype": "text/x-python",
   "name": "python",
   "nbconvert_exporter": "python",
   "pygments_lexer": "ipython3",
   "version": "3.11.6"
  }
 },
 "nbformat": 4,
 "nbformat_minor": 5
}
