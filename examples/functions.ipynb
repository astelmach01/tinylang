{
 "cells": [
  {
   "cell_type": "code",
   "execution_count": 2,
   "id": "8f8430b2a2ff7685",
   "metadata": {
    "collapsed": true,
    "ExecuteTime": {
     "end_time": "2023-10-24T05:32:19.120808Z",
     "start_time": "2023-10-24T05:32:18.944714Z"
    }
   },
   "outputs": [],
   "source": [
    "from tinylang.functions import function\n",
    "from tinylang.chains import Chain\n",
    "from tinylang.llms import OpenAI\n",
    "from dotenv import load_dotenv, find_dotenv\n",
    "import os"
   ]
  },
  {
   "cell_type": "code",
   "execution_count": 3,
   "outputs": [],
   "source": [
    "load_dotenv(find_dotenv())\n",
    "\n",
    "openai_api_key = os.environ[\"OPENAI_API_KEY\"]\n",
    "openai_organization = os.environ[\"OPENAI_ORGANIZATION\"]"
   ],
   "metadata": {
    "collapsed": false,
    "ExecuteTime": {
     "end_time": "2023-10-24T05:32:25.971077Z",
     "start_time": "2023-10-24T05:32:25.966429Z"
    }
   },
   "id": "b2b8ceeb73899b0d"
  },
  {
   "cell_type": "code",
   "execution_count": 4,
   "outputs": [],
   "source": [
    "model = \"gpt-3.5-turbo\"\n",
    "\n",
    "chatGPT = OpenAI(\n",
    "    openai_api_key=openai_api_key,\n",
    "    openai_organization=openai_organization,\n",
    "    model=model,\n",
    ")"
   ],
   "metadata": {
    "collapsed": false,
    "ExecuteTime": {
     "end_time": "2023-10-24T05:32:36.304821Z",
     "start_time": "2023-10-24T05:32:36.298674Z"
    }
   },
   "id": "1e292baafb265896"
  },
  {
   "cell_type": "code",
   "execution_count": 6,
   "outputs": [
    {
     "data": {
      "text/plain": "[{'name': 'add',\n  'description': '\\n    Adds two numbers\\n    ',\n  'parameters': {'properties': {'a': {'type': 'integer'},\n    'b': {'type': 'integer'}},\n   'required': ['a', 'b'],\n   'type': 'object'}}]"
     },
     "execution_count": 6,
     "metadata": {},
     "output_type": "execute_result"
    }
   ],
   "source": [
    "\n",
    "@function\n",
    "def add(a: int, b: int):\n",
    "    \"\"\"\n",
    "    Adds two numbers\n",
    "    \"\"\"\n",
    "    return a + b\n",
    "\n",
    "\n",
    "tools = [add]\n",
    "tools"
   ],
   "metadata": {
    "collapsed": false,
    "ExecuteTime": {
     "end_time": "2023-10-24T05:32:56.047822Z",
     "start_time": "2023-10-24T05:32:56.045470Z"
    }
   },
   "id": "initial_id"
  },
  {
   "cell_type": "code",
   "execution_count": null,
   "outputs": [],
   "source": [
    "chain = Chain(\n",
    "    llm=chatGPT,\n",
    "    tools=tools,\n",
    ")\n",
    "\n",
    "chain.run(\"What is 2 + 2\")"
   ],
   "metadata": {
    "collapsed": false
   },
   "id": "21ef0f8092812a6"
  }
 ],
 "metadata": {
  "kernelspec": {
   "display_name": "Python 3",
   "language": "python",
   "name": "python3"
  },
  "language_info": {
   "codemirror_mode": {
    "name": "ipython",
    "version": 2
   },
   "file_extension": ".py",
   "mimetype": "text/x-python",
   "name": "python",
   "nbconvert_exporter": "python",
   "pygments_lexer": "ipython2",
   "version": "2.7.6"
  }
 },
 "nbformat": 4,
 "nbformat_minor": 5
}
