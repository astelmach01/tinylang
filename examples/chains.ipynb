{
 "cells": [
  {
   "cell_type": "code",
   "execution_count": 7,
   "outputs": [],
   "source": [
    "from tinylang.chains import Chain\n",
    "from tinylang.llms import OpenAI\n",
    "from tinylang.memory import ConversationMemory\n",
    "\n",
    "from dotenv import load_dotenv, find_dotenv\n",
    "import os"
   ],
   "metadata": {
    "collapsed": false,
    "ExecuteTime": {
     "end_time": "2023-10-24T04:04:09.130557Z",
     "start_time": "2023-10-24T04:04:09.115889Z"
    }
   },
   "id": "initial_id"
  },
  {
   "cell_type": "code",
   "execution_count": 8,
   "outputs": [],
   "source": [
    "load_dotenv(find_dotenv())\n",
    "\n",
    "openai_api_key = os.environ[\"OPENAI_API_KEY\"]\n",
    "openai_organization = os.environ[\"OPENAI_ORGANIZATION\"]"
   ],
   "metadata": {
    "collapsed": false,
    "ExecuteTime": {
     "end_time": "2023-10-24T04:04:09.279985Z",
     "start_time": "2023-10-24T04:04:09.275808Z"
    }
   },
   "id": "a9994dee4a4fa97e"
  },
  {
   "cell_type": "code",
   "execution_count": 12,
   "outputs": [],
   "source": [
    "model = \"gpt-3.5-turbo\"\n",
    "\n",
    "chatGPT = OpenAI(\n",
    "    openai_api_key=openai_api_key,\n",
    "    openai_organization=openai_organization,\n",
    "    model=model,\n",
    ")\n",
    "\n",
    "memory = ConversationMemory()\n",
    "memory.add_user_message(\"What is my name?\")\n",
    "memory.add_assistant_message(\"I'm not sure\")\n",
    "memory.add_user_message(\"My name is John\")"
   ],
   "metadata": {
    "collapsed": false,
    "ExecuteTime": {
     "end_time": "2023-10-24T04:04:45.885895Z",
     "start_time": "2023-10-24T04:04:45.878762Z"
    }
   },
   "id": "f199ddb9fee8014e"
  },
  {
   "cell_type": "code",
   "execution_count": 13,
   "outputs": [
    {
     "data": {
      "text/plain": "'Your name is John.'"
     },
     "execution_count": 13,
     "metadata": {},
     "output_type": "execute_result"
    }
   ],
   "source": [
    "chain = Chain(\n",
    "    llm=chatGPT,\n",
    "    memory=memory,\n",
    ")\n",
    "\n",
    "chain.run(\"What is my name?\")"
   ],
   "metadata": {
    "collapsed": false,
    "ExecuteTime": {
     "end_time": "2023-10-24T04:04:47.333048Z",
     "start_time": "2023-10-24T04:04:46.230439Z"
    }
   },
   "id": "485dab6e5a0bc475"
  },
  {
   "cell_type": "code",
   "execution_count": 14,
   "outputs": [
    {
     "data": {
      "text/plain": "[{'role': 'user', 'content': 'What is my name?'},\n {'role': 'assistant', 'content': \"I'm not sure\"},\n {'role': 'user', 'content': 'My name is John'},\n {'role': 'user', 'content': 'What is my name?'},\n {'role': 'assistant', 'content': 'Your name is John.'}]"
     },
     "execution_count": 14,
     "metadata": {},
     "output_type": "execute_result"
    }
   ],
   "source": [
    "chain.memory.format_messages()"
   ],
   "metadata": {
    "collapsed": false,
    "ExecuteTime": {
     "end_time": "2023-10-24T04:04:48.516145Z",
     "start_time": "2023-10-24T04:04:48.506581Z"
    }
   },
   "id": "51ff1e000d2879d4"
  }
 ],
 "metadata": {
  "kernelspec": {
   "display_name": "Python 3",
   "language": "python",
   "name": "python3"
  },
  "language_info": {
   "codemirror_mode": {
    "name": "ipython",
    "version": 2
   },
   "file_extension": ".py",
   "mimetype": "text/x-python",
   "name": "python",
   "nbconvert_exporter": "python",
   "pygments_lexer": "ipython2",
   "version": "2.7.6"
  }
 },
 "nbformat": 4,
 "nbformat_minor": 5
}
