{
 "cells": [
  {
   "cell_type": "code",
   "execution_count": 1,
   "outputs": [],
   "source": [
    "from tinylang.chains import Chain\n",
    "from tinylang.memory import ConversationMemory\n",
    "from tinylang.llms import OpenAI\n",
    "\n",
    "from dotenv import load_dotenv, find_dotenv\n",
    "import os"
   ],
   "metadata": {
    "collapsed": false,
    "ExecuteTime": {
     "end_time": "2023-10-06T05:07:48.884461Z",
     "start_time": "2023-10-06T05:07:48.821777Z"
    }
   },
   "id": "initial_id"
  },
  {
   "cell_type": "code",
   "execution_count": 2,
   "outputs": [],
   "source": [
    "load_dotenv(find_dotenv())\n",
    "\n",
    "openai_api_key = os.environ[\"OPENAI_API_KEY\"]\n",
    "openai_organization = os.environ[\"OPENAI_ORGANIZATION\"]"
   ],
   "metadata": {
    "collapsed": false,
    "ExecuteTime": {
     "end_time": "2023-10-06T05:07:48.887393Z",
     "start_time": "2023-10-06T05:07:48.885214Z"
    }
   },
   "id": "a9994dee4a4fa97e"
  },
  {
   "cell_type": "code",
   "execution_count": 3,
   "outputs": [],
   "source": [
    "model = \"gpt-3.5-turbo\"\n",
    "\n",
    "chatGPT = OpenAI(\n",
    "    openai_api_key=openai_api_key,\n",
    "    openai_organization=openai_organization,\n",
    "    model=model,\n",
    ")"
   ],
   "metadata": {
    "collapsed": false,
    "ExecuteTime": {
     "end_time": "2023-10-06T05:07:48.889888Z",
     "start_time": "2023-10-06T05:07:48.887930Z"
    }
   },
   "id": "f199ddb9fee8014e"
  },
  {
   "cell_type": "code",
   "execution_count": 4,
   "outputs": [
    {
     "data": {
      "text/plain": "\"I'm sorry, but I don't have access to personal information about individuals unless it has been shared with me in the course of our conversation.\""
     },
     "execution_count": 4,
     "metadata": {},
     "output_type": "execute_result"
    }
   ],
   "source": [
    "chain = Chain(\n",
    "    llm=chatGPT,\n",
    ")\n",
    "\n",
    "chain.run(\"What is my name?\")"
   ],
   "metadata": {
    "collapsed": false,
    "ExecuteTime": {
     "end_time": "2023-10-06T05:07:50.323922Z",
     "start_time": "2023-10-06T05:07:48.953535Z"
    }
   },
   "id": "485dab6e5a0bc475"
  },
  {
   "cell_type": "code",
   "execution_count": 5,
   "outputs": [
    {
     "data": {
      "text/plain": "'Nice to meet you, Andrew! How can I assist you today?'"
     },
     "execution_count": 5,
     "metadata": {},
     "output_type": "execute_result"
    }
   ],
   "source": [
    "chain.run(\"My name is Andrew\")"
   ],
   "metadata": {
    "collapsed": false,
    "ExecuteTime": {
     "end_time": "2023-10-06T05:07:51.265572Z",
     "start_time": "2023-10-06T05:07:50.505592Z"
    }
   },
   "id": "76975a3055f1f1a6"
  },
  {
   "cell_type": "code",
   "execution_count": 6,
   "outputs": [
    {
     "data": {
      "text/plain": "'Your name is Andrew.'"
     },
     "execution_count": 6,
     "metadata": {},
     "output_type": "execute_result"
    }
   ],
   "source": [
    "chain.run(\"What is my name?\")"
   ],
   "metadata": {
    "collapsed": false,
    "ExecuteTime": {
     "end_time": "2023-10-06T05:07:51.630673Z",
     "start_time": "2023-10-06T05:07:51.266166Z"
    }
   },
   "id": "e338374e8912ff34"
  },
  {
   "cell_type": "code",
   "execution_count": 7,
   "outputs": [
    {
     "data": {
      "text/plain": "[{'role': 'user', 'content': 'What is my name?'},\n {'role': 'assistant',\n  'content': \"I'm sorry, but I don't have access to personal information about individuals unless it has been shared with me in the course of our conversation.\"},\n {'role': 'user', 'content': 'My name is Andrew'},\n {'role': 'assistant',\n  'content': 'Nice to meet you, Andrew! How can I assist you today?'},\n {'role': 'user', 'content': 'What is my name?'},\n {'role': 'assistant', 'content': 'Your name is Andrew.'}]"
     },
     "execution_count": 7,
     "metadata": {},
     "output_type": "execute_result"
    }
   ],
   "source": [
    "chain.memory.format_messages()"
   ],
   "metadata": {
    "collapsed": false,
    "ExecuteTime": {
     "end_time": "2023-10-06T05:07:51.632978Z",
     "start_time": "2023-10-06T05:07:51.630511Z"
    }
   },
   "id": "51ff1e000d2879d4"
  }
 ],
 "metadata": {
  "kernelspec": {
   "display_name": "Python 3",
   "language": "python",
   "name": "python3"
  },
  "language_info": {
   "codemirror_mode": {
    "name": "ipython",
    "version": 2
   },
   "file_extension": ".py",
   "mimetype": "text/x-python",
   "name": "python",
   "nbconvert_exporter": "python",
   "pygments_lexer": "ipython2",
   "version": "2.7.6"
  }
 },
 "nbformat": 4,
 "nbformat_minor": 5
}
