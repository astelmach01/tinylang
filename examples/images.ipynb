{
 "cells": [
  {
   "cell_type": "markdown",
   "id": "426e85fec25b8498",
   "metadata": {
    "collapsed": false
   },
   "source": [
    "## Imports"
   ]
  },
  {
   "cell_type": "code",
   "execution_count": 1,
   "id": "initial_id",
   "metadata": {
    "collapsed": true,
    "ExecuteTime": {
     "end_time": "2023-11-06T21:04:12.491910Z",
     "start_time": "2023-11-06T21:04:11.785661Z"
    }
   },
   "outputs": [],
   "source": [
    "import numpy as np\n",
    "import os\n",
    "from dotenv import load_dotenv\n",
    "\n",
    "from PIL import Image as PillowImage  # type: ignore\n",
    "import cv2\n",
    "from skimage import io as skimage_io\n",
    "from tinylang.images import Image\n",
    "from tinylang.messages import UserMessage\n",
    "from tinylang.memory import ConversationMemory\n",
    "from tinylang.llms import OpenAI\n",
    "from matplotlib import pyplot as plt\n",
    "\n",
    "_ = load_dotenv()"
   ]
  },
  {
   "cell_type": "markdown",
   "id": "7bcca427f56bc124",
   "metadata": {
    "collapsed": false
   },
   "source": [
    "### Loading a sample image to be passed into the model"
   ]
  },
  {
   "cell_type": "code",
   "execution_count": 2,
   "id": "a894a54db1c57936",
   "metadata": {
    "collapsed": false,
    "ExecuteTime": {
     "end_time": "2023-11-06T21:04:12.499518Z",
     "start_time": "2023-11-06T21:04:12.492353Z"
    }
   },
   "outputs": [
    {
     "data": {
      "text/plain": "<PIL.PngImagePlugin.PngImageFile image mode=L size=28x28>",
      "image/png": "[encoded data removed]",
      "image/jpeg": "[encoded data removed]"
     },
     "execution_count": 2,
     "metadata": {},
     "output_type": "execute_result"
    }
   ],
   "source": [
    "pillow_image = PillowImage.open(\"image.png\")\n",
    "pillow_image"
   ]
  },
  {
   "cell_type": "code",
   "execution_count": 3,
   "id": "426a774e41532343",
   "metadata": {
    "collapsed": false,
    "ExecuteTime": {
     "end_time": "2023-11-06T21:04:12.558948Z",
     "start_time": "2023-11-06T21:04:12.498943Z"
    }
   },
   "outputs": [
    {
     "data": {
      "text/plain": "<Figure size 640x480 with 1 Axes>",
      "image/png": "[encoded data removed]"
     },
     "metadata": {},
     "output_type": "display_data"
    }
   ],
   "source": [
    "np_image = np.array(pillow_image)\n",
    "plt.imshow(np_image, cmap=\"gray\");"
   ]
  },
  {
   "cell_type": "markdown",
   "id": "9f2cc10bed23519f",
   "metadata": {
    "collapsed": false
   },
   "source": [
    "#### Different formats are also supported"
   ]
  },
  {
   "cell_type": "code",
   "execution_count": 4,
   "id": "577fae3a53161d77",
   "metadata": {
    "collapsed": false,
    "ExecuteTime": {
     "end_time": "2023-11-06T21:04:12.561803Z",
     "start_time": "2023-11-06T21:04:12.558065Z"
    }
   },
   "outputs": [],
   "source": [
    "cv2_image = cv2.imread(\"image.png\")\n",
    "skimage_image = skimage_io.imread(\"image.png\")\n",
    "bytes_image = open(\"image.png\", \"rb\").read()"
   ]
  },
  {
   "cell_type": "markdown",
   "id": "d234dd5c8acc309",
   "metadata": {
    "collapsed": false
   },
   "source": [
    "### Pass in the image to a UserMessage"
   ]
  },
  {
   "cell_type": "markdown",
   "id": "812abc306988402e",
   "metadata": {
    "collapsed": false
   },
   "source": [
    "##### Use the from_x method to create an Image object"
   ]
  },
  {
   "cell_type": "code",
   "execution_count": 5,
   "id": "1ec13383bb4c51d8",
   "metadata": {
    "collapsed": false,
    "ExecuteTime": {
     "end_time": "2023-11-06T21:04:12.564910Z",
     "start_time": "2023-11-06T21:04:12.562948Z"
    }
   },
   "outputs": [],
   "source": [
    "user_image = Image.from_numpy(np_image)\n",
    "user_image = Image.from_pillow(pillow_image)\n",
    "user_image = Image.from_opencv(cv2_image)\n",
    "user_image = Image.from_bytes(bytes_image)"
   ]
  },
  {
   "cell_type": "code",
   "execution_count": 6,
   "id": "f74d66537693fb82",
   "metadata": {
    "collapsed": false,
    "ExecuteTime": {
     "end_time": "2023-11-06T21:04:13.123821Z",
     "start_time": "2023-11-06T21:04:13.116854Z"
    }
   },
   "outputs": [
    {
     "data": {
      "text/plain": "{'role': 'user', 'content': [{'type': 'text', 'text': 'Hello I have this image'}, {'type': 'image_url', 'image_url': 'data:image/png;base64,iVBORw0KGgoAAAANSUhEUgAAABwAAAAcCAAAAABXZoBIAAABAElEQVR4nGNgGMyAWUhIqK5jvdSy/9/rGRgYGFhgEnJsVjYCwQwMDAxPJgV+vniQgYGBgREqZ7iXH8r6l/SV4dn7m8gmCt3++/fv37/Htn3/iMW+gDnZf/+e5WbQnoXNNXyMs/5GoQoxwVmf/n9kSGFiwAW49/11wynJoPzx4YIcRlyygR/+/i2XxCWru+vv32nSuGQFYv/83Y3b4p9/fzpAmSyoMnohpiwM1w5h06Q+5enfv39/bcMiJVF09+/fv39P+mFKiTtd/fv3799jgZiBJLT69t+/f/8eDuDEkDJf8+jv379/v7Ryo4qzMDAwMAQGMjBc3/y35wM2V1IfAABFF16Aa0wAOwAAAABJRU5ErkJggg=='}]}"
     },
     "execution_count": 6,
     "metadata": {},
     "output_type": "execute_result"
    }
   ],
   "source": [
    "UserMessage(content=\"Hello I have this image\", image=user_image)"
   ]
  },
  {
   "cell_type": "markdown",
   "id": "884e609530f93567",
   "metadata": {
    "collapsed": false
   },
   "source": [
    "## Use with OpenAI "
   ]
  },
  {
   "cell_type": "code",
   "execution_count": 7,
   "id": "9fd51361c460ea0a",
   "metadata": {
    "collapsed": false,
    "ExecuteTime": {
     "end_time": "2023-11-06T21:04:14.293069Z",
     "start_time": "2023-11-06T21:04:14.290976Z"
    }
   },
   "outputs": [],
   "source": [
    "memory = ConversationMemory()\n",
    "\n",
    "memory.add_user_message(\"Hello how are you?\")\n",
    "memory.add_assistant_message(\"I am good thanks\")\n",
    "memory.add_message(UserMessage(content=\"What is this?\", image=user_image))"
   ]
  },
  {
   "cell_type": "code",
   "execution_count": 8,
   "id": "99ed8c8a1c3ce708",
   "metadata": {
    "collapsed": false,
    "ExecuteTime": {
     "end_time": "2023-11-06T21:04:14.886210Z",
     "start_time": "2023-11-06T21:04:14.882342Z"
    }
   },
   "outputs": [
    {
     "data": {
      "text/plain": "[{'role': 'user', 'content': [{'type': 'text', 'text': 'Hello how are you?'}]},\n {'role': 'assistant',\n  'content': [{'type': 'text', 'text': 'I am good thanks'}]},\n {'role': 'user',\n  'content': [{'type': 'text', 'text': 'What is this?'},\n   {'type': 'image_url',\n    'image_url': 'data:image/png;base64,iVBORw0KGgoAAAANSUhEUgAAABwAAAAcCAAAAABXZoBIAAABAElEQVR4nGNgGMyAWUhIqK5jvdSy/9/rGRgYGFhgEnJsVjYCwQwMDAxPJgV+vniQgYGBgREqZ7iXH8r6l/SV4dn7m8gmCt3++/fv37/Htn3/iMW+gDnZf/+e5WbQnoXNNXyMs/5GoQoxwVmf/n9kSGFiwAW49/11wynJoPzx4YIcRlyygR/+/i2XxCWru+vv32nSuGQFYv/83Y3b4p9/fzpAmSyoMnohpiwM1w5h06Q+5enfv39/bcMiJVF09+/fv39P+mFKiTtd/fv3799jgZiBJLT69t+/f/8eDuDEkDJf8+jv379/v7Ryo4qzMDAwMAQGMjBc3/y35wM2V1IfAABFF16Aa0wAOwAAAABJRU5ErkJggg=='}]}]"
     },
     "execution_count": 8,
     "metadata": {},
     "output_type": "execute_result"
    }
   ],
   "source": [
    "memory.format_messages()"
   ]
  },
  {
   "cell_type": "code",
   "execution_count": 9,
   "outputs": [],
   "source": [
    "openai_api_key = os.environ[\"OPENAI_API_KEY\"]\n",
    "openai_organization = os.environ[\"OPENAI_ORGANIZATION\"]"
   ],
   "metadata": {
    "collapsed": false,
    "ExecuteTime": {
     "end_time": "2023-11-06T21:04:16.724345Z",
     "start_time": "2023-11-06T21:04:16.719168Z"
    }
   },
   "id": "757a5bbe4bc112f1"
  },
  {
   "cell_type": "code",
   "execution_count": 12,
   "id": "124318833bb7c400",
   "metadata": {
    "collapsed": false,
    "ExecuteTime": {
     "end_time": "2023-11-06T21:05:10.256852Z",
     "start_time": "2023-11-06T21:05:08.770643Z"
    }
   },
   "outputs": [
    {
     "data": {
      "text/plain": "\"You've mentioned that this is from the MNIST dataset, which is a large\""
     },
     "execution_count": 12,
     "metadata": {},
     "output_type": "execute_result"
    }
   ],
   "source": [
    "chatGPT = OpenAI(\n",
    "    model=\"gpt-4-vision-preview\", openai_organization=openai_organization, openai_api_key=openai_api_key, memory=memory\n",
    ")\n",
    "chatGPT.chat(\"What is this, I have downloaded this from MNIST?\", image=user_image)"
   ]
  },
  {
   "cell_type": "code",
   "execution_count": null,
   "outputs": [],
   "source": [],
   "metadata": {
    "collapsed": false
   },
   "id": "8d98f51e7c2225b7"
  }
 ],
 "metadata": {
  "kernelspec": {
   "display_name": "Python 3",
   "language": "python",
   "name": "python3"
  },
  "language_info": {
   "codemirror_mode": {
    "name": "ipython",
    "version": 2
   },
   "file_extension": ".py",
   "mimetype": "text/x-python",
   "name": "python",
   "nbconvert_exporter": "python",
   "pygments_lexer": "ipython2",
   "version": "2.7.6"
  }
 },
 "nbformat": 4,
 "nbformat_minor": 5
}
