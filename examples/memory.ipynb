{
 "cells": [
  {
   "cell_type": "code",
   "execution_count": 5,
   "outputs": [
    {
     "name": "stdout",
     "output_type": "stream",
     "text": [
      "{'role': 'user', 'content': 'Hello, world!'}\n",
      "user: Hello, world!\n"
     ]
    }
   ],
   "source": [
    "from tinylang.memory import ConversationMemory\n",
    "from tinylang.messages import UserMessage\n",
    "\n",
    "message = UserMessage(\"Hello, world!\")\n",
    "\n",
    "print(message.to_json())\n",
    "print(message.from_json(message.to_json()))"
   ],
   "metadata": {
    "collapsed": false,
    "ExecuteTime": {
     "end_time": "2023-10-03T04:50:15.408142Z",
     "start_time": "2023-10-03T04:50:15.403957Z"
    }
   },
   "id": "ea370fafa3aa7e49"
  },
  {
   "cell_type": "code",
   "execution_count": 7,
   "outputs": [],
   "source": [
    "memory = ConversationMemory(messages=[message])"
   ],
   "metadata": {
    "collapsed": false,
    "ExecuteTime": {
     "end_time": "2023-10-03T04:51:02.191484Z",
     "start_time": "2023-10-03T04:51:02.189246Z"
    }
   },
   "id": "986dd7171a48b4"
  },
  {
   "cell_type": "code",
   "execution_count": 8,
   "outputs": [],
   "source": [
    "memory.add_assistant_message(\"Hello, world!\")"
   ],
   "metadata": {
    "collapsed": false,
    "ExecuteTime": {
     "end_time": "2023-10-03T04:51:08.296043Z",
     "start_time": "2023-10-03T04:51:08.292354Z"
    }
   },
   "id": "2c25b70dc4127747"
  },
  {
   "cell_type": "code",
   "execution_count": 9,
   "outputs": [
    {
     "data": {
      "text/plain": "[{'role': 'user', 'content': 'Hello, world!'},\n {'role': 'assistant', 'content': 'Hello, world!'}]"
     },
     "execution_count": 9,
     "metadata": {},
     "output_type": "execute_result"
    }
   ],
   "source": [
    "memory.format_messages()"
   ],
   "metadata": {
    "collapsed": false,
    "ExecuteTime": {
     "end_time": "2023-10-03T04:51:11.248889Z",
     "start_time": "2023-10-03T04:51:11.239560Z"
    }
   },
   "id": "bf27ba47492499f5"
  },
  {
   "cell_type": "markdown",
   "source": [
    "#### To reduce costs and latency, conversation memory also supports keeping the last k interactions\n",
    "An interaction is a(user, AI) pair of messages"
   ],
   "metadata": {
    "collapsed": false
   },
   "id": "f6aecd3d6b7868d6"
  },
  {
   "cell_type": "code",
   "execution_count": 10,
   "outputs": [
    {
     "data": {
      "text/plain": "[{'role': 'user', 'content': 'How are you'},\n {'role': 'assistant', 'content': \"I'm fine, thanks\"},\n {'role': 'user', 'content': \"What's your name?\"},\n {'role': 'assistant', 'content': 'My name is Tiny'}]"
     },
     "execution_count": 10,
     "metadata": {},
     "output_type": "execute_result"
    }
   ],
   "source": [
    "memory = ConversationMemory(last_k=2)\n",
    "\n",
    "memory.add_user_message(\"Hello, world!\")\n",
    "memory.add_assistant_message(\"Hello, world!\")\n",
    "\n",
    "memory.add_user_message(\"How are you\")\n",
    "memory.add_assistant_message(\"I'm fine, thanks\")\n",
    "\n",
    "memory.add_user_message(\"What's your name?\")\n",
    "memory.add_assistant_message(\"My name is Tiny\")\n",
    "\n",
    "memory.format_messages()"
   ],
   "metadata": {
    "collapsed": false,
    "ExecuteTime": {
     "end_time": "2023-10-03T04:55:12.052479Z",
     "start_time": "2023-10-03T04:55:12.045407Z"
    }
   },
   "id": "686b69f0f7cb4e3b"
  }
 ],
 "metadata": {
  "kernelspec": {
   "display_name": "Python 3",
   "language": "python",
   "name": "python3"
  },
  "language_info": {
   "codemirror_mode": {
    "name": "ipython",
    "version": 2
   },
   "file_extension": ".py",
   "mimetype": "text/x-python",
   "name": "python",
   "nbconvert_exporter": "python",
   "pygments_lexer": "ipython2",
   "version": "2.7.6"
  }
 },
 "nbformat": 4,
 "nbformat_minor": 5
}
