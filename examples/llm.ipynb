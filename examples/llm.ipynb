{
 "cells": [
  {
   "cell_type": "markdown",
   "source": [
    "## Imports"
   ],
   "metadata": {
    "collapsed": false
   },
   "id": "8cbf6a3e57ac137b"
  },
  {
   "cell_type": "code",
   "execution_count": 1,
   "id": "initial_id",
   "metadata": {
    "collapsed": true,
    "ExecuteTime": {
     "end_time": "2023-11-06T19:56:21.591248Z",
     "start_time": "2023-11-06T19:56:21.325253Z"
    }
   },
   "outputs": [],
   "source": [
    "import os\n",
    "\n",
    "from dotenv import find_dotenv, load_dotenv\n",
    "\n",
    "from tinylang.llms import OpenAI"
   ]
  },
  {
   "cell_type": "markdown",
   "source": [
    "### Load environment variables"
   ],
   "metadata": {
    "collapsed": false
   },
   "id": "9837c2a823552fc"
  },
  {
   "cell_type": "code",
   "execution_count": 2,
   "outputs": [],
   "source": [
    "load_dotenv(find_dotenv())\n",
    "\n",
    "openai_api_key = os.environ[\"OPENAI_API_KEY\"]\n",
    "openai_organization = os.environ[\"OPENAI_ORGANIZATION\"]"
   ],
   "metadata": {
    "collapsed": false,
    "ExecuteTime": {
     "end_time": "2023-11-06T19:56:21.608543Z",
     "start_time": "2023-11-06T19:56:21.599126Z"
    }
   },
   "id": "65506e3e1554a323"
  },
  {
   "cell_type": "markdown",
   "source": [
    "## Using an LLM"
   ],
   "metadata": {
    "collapsed": false
   },
   "id": "2c922110640fafc6"
  },
  {
   "cell_type": "markdown",
   "source": [
    "### Regular Chat"
   ],
   "metadata": {
    "collapsed": false
   },
   "id": "5495bd85db0c50fd"
  },
  {
   "cell_type": "code",
   "execution_count": 3,
   "outputs": [],
   "source": [
    "model = \"gpt-3.5-turbo\""
   ],
   "metadata": {
    "collapsed": false,
    "ExecuteTime": {
     "end_time": "2023-11-06T19:56:21.988685Z",
     "start_time": "2023-11-06T19:56:21.986510Z"
    }
   },
   "id": "5ffee2b353a2145b"
  },
  {
   "cell_type": "code",
   "execution_count": 4,
   "outputs": [],
   "source": [
    "chatGPT = OpenAI(\n",
    "    openai_api_key=openai_api_key,\n",
    "    openai_organization=openai_organization,\n",
    "    model=model,\n",
    ")"
   ],
   "metadata": {
    "collapsed": false,
    "ExecuteTime": {
     "end_time": "2023-11-06T19:56:22.661861Z",
     "start_time": "2023-11-06T19:56:22.636251Z"
    }
   },
   "id": "a1e6390696b74aa6"
  },
  {
   "cell_type": "code",
   "execution_count": 5,
   "outputs": [
    {
     "data": {
      "text/plain": "\"Hello! I'm an AI, so I don't have feelings, but I'm here to help you with any questions or tasks you have. How can I assist you today?\""
     },
     "execution_count": 5,
     "metadata": {},
     "output_type": "execute_result"
    }
   ],
   "source": [
    "chatGPT.chat(\"Hello, how are you?\")"
   ],
   "metadata": {
    "collapsed": false,
    "ExecuteTime": {
     "end_time": "2023-11-06T19:56:24.850158Z",
     "start_time": "2023-11-06T19:56:23.079185Z"
    }
   },
   "id": "d8b88c9c66edafcf"
  },
  {
   "cell_type": "markdown",
   "source": [
    "### Streaming Chat Response"
   ],
   "metadata": {
    "collapsed": false
   },
   "id": "5fe53f72725dcdae"
  },
  {
   "cell_type": "code",
   "execution_count": 6,
   "outputs": [],
   "source": [
    "chatGPT = OpenAI(\n",
    "    openai_api_key=openai_api_key,\n",
    "    openai_organization=openai_organization,\n",
    "    model=model,\n",
    ")\n",
    "\n",
    "res = chatGPT.stream_chat(\n",
    "    \"Explain what p-hacking is\",\n",
    ")"
   ],
   "metadata": {
    "collapsed": false,
    "ExecuteTime": {
     "end_time": "2023-11-06T19:57:29.290060Z",
     "start_time": "2023-11-06T19:57:29.266784Z"
    }
   },
   "id": "1f16373fcc7c8a34"
  },
  {
   "cell_type": "code",
   "execution_count": 7,
   "outputs": [
    {
     "name": "stdout",
     "output_type": "stream",
     "text": [
      "P-hacking refers to the improper and unethical practice of selectively analyzing and reporting data in a way that leads to statistically significant results. It involves searching for patterns or relationships within a dataset until a desired outcome or significance level (typically a p-value below 0.05) is reached, manipulating the analysis until the desired result is obtained.\n",
      "\n",
      "P-hacking often involves various methods, such as:\n",
      "1. Data dredging: Collecting or analyzing a large amount of data and selectively focusing on the subset that yields statistically significant results, while ignoring non-significant results.\n",
      "\n",
      "2. Data manipulation: Modifying the dataset by excluding outliers or influential cases, transforming variables, or choosing different statistical models until the desired result is achieved.\n",
      "\n",
      "3. Multiple testing: Testing multiple hypotheses on the same dataset without proper adjustment for multiple comparisons, increasing the probability of obtaining false positive results by chance.\n",
      "P-hacking can be done knowingly or unknowingly, both in research design and during data analysis. It undermines the scientific integrity of research studies and can lead to false conclusions or biased findings. It is considered unethical because it distorts the conclusions of a study and can mislead other researchers, policymakers, or the general public.\n",
      "To avoid p-hacking, researchers should follow best practices, such as pre-registering their studies, clearly defining hypotheses and analysis plans in advance, conducting power calculations, using appropriate statistical methods, and transparently reporting both significant and non-significant results."
     ]
    }
   ],
   "source": [
    "for chunk in res:\n",
    "    print(chunk, end=\"\", flush=True)"
   ],
   "metadata": {
    "collapsed": false,
    "ExecuteTime": {
     "end_time": "2023-11-06T19:57:35.906105Z",
     "start_time": "2023-11-06T19:57:30.139867Z"
    }
   },
   "id": "831668592b5d0d78"
  },
  {
   "cell_type": "markdown",
   "source": [
    "### Raw Responses"
   ],
   "metadata": {
    "collapsed": false
   },
   "id": "71173d634db59c2"
  },
  {
   "cell_type": "markdown",
   "source": [],
   "metadata": {
    "collapsed": false
   },
   "id": "fae77ffd0aa6f8b0"
  },
  {
   "cell_type": "code",
   "execution_count": 7,
   "outputs": [
    {
     "data": {
      "text/plain": "<OpenAIObject chat.completion id=chatcmpl-85RKwcsiC8mr4VQzbMH4X7h21dyV2 at 0x107a1a9f0> JSON: {\n  \"id\": \"chatcmpl-85RKwcsiC8mr4VQzbMH4X7h21dyV2\",\n  \"object\": \"chat.completion\",\n  \"created\": 1696307414,\n  \"model\": \"gpt-3.5-turbo-0613\",\n  \"choices\": [\n    {\n      \"index\": 0,\n      \"message\": {\n        \"role\": \"assistant\",\n        \"content\": \"P-hacking refers to the practice of manipulating or analyzing data in such a way that it produces statistically significant results, even though the underlying hypothesis may have little or no real effect. It is considered a form of data manipulation or statistical fishing.\\n\\nWhen conducting scientific research or analyzing data, researchers often set a significance level (denoted as 'p') to determine whether the observed results are statistically significant or not. By convention, a p-value less than 0.05 (5%) is generally considered statistically significant. However, if researchers go through multiple iterations of analyzing their data in different ways or testing multiple hypotheses, they may unintentionally or intentionally manipulate the analysis until they achieve a statistically significant result.\\n\\nP-hacking can take various forms, such as selectively reporting only significant results while ignoring non-significant ones, cherry-picking data points, adjusting variables or parameters until the desired outcome is achieved, or performing multiple analyses without proper correction for multiple testing.\\n\\nThis practice can lead to false conclusions or overestimation of the true effect of a given variable or hypothesis, which ultimately undermines the validity and reliability of scientific research.\\n\\nTo combat p-hacking, it is important for researchers to have a priori hypotheses, clearly define the analysis plan before data collection, and pre-register the study design and analysis methods. Additionally, transparent reporting of all statistical analyses, regardless of the outcome, can help minimize the negative effects of p-hacking.\"\n      },\n      \"finish_reason\": \"stop\"\n    }\n  ],\n  \"usage\": {\n    \"prompt_tokens\": 14,\n    \"completion_tokens\": 284,\n    \"total_tokens\": 298\n  }\n}"
     },
     "execution_count": 7,
     "metadata": {},
     "output_type": "execute_result"
    }
   ],
   "source": [
    "chatGPT = OpenAI(\n",
    "    openai_api_key=openai_api_key,\n",
    "    openai_organization=openai_organization,\n",
    "    model=model,\n",
    ")\n",
    "chatGPT.chat(\n",
    "    \"Explain what p-hacking is\",\n",
    "    raw_response=True,\n",
    ")"
   ],
   "metadata": {
    "collapsed": false,
    "ExecuteTime": {
     "end_time": "2023-10-03T04:30:19.375228Z",
     "start_time": "2023-10-03T04:30:14.325295Z"
    }
   },
   "id": "9ff730e62018ada1"
  },
  {
   "cell_type": "markdown",
   "source": [
    "### Using Memory"
   ],
   "metadata": {
    "collapsed": false
   },
   "id": "e3518311d4d46c16"
  },
  {
   "cell_type": "markdown",
   "source": [
    "#### Create a ConversationMemory object, and just pass it into the LLM"
   ],
   "metadata": {
    "collapsed": false
   },
   "id": "129777c5eba870f5"
  },
  {
   "cell_type": "code",
   "execution_count": 5,
   "outputs": [],
   "source": [
    "from tinylang.memory import ConversationMemory\n",
    "\n",
    "memory = ConversationMemory()\n",
    "\n",
    "\n",
    "chatGPT = OpenAI(\n",
    "    openai_api_key=openai_api_key,\n",
    "    openai_organization=openai_organization,\n",
    "    model=model,\n",
    "    memory=memory,\n",
    ")"
   ],
   "metadata": {
    "collapsed": false,
    "ExecuteTime": {
     "end_time": "2023-10-03T04:43:51.490586Z",
     "start_time": "2023-10-03T04:43:51.487438Z"
    }
   },
   "id": "26d9b3f43d1e11f3"
  },
  {
   "cell_type": "code",
   "execution_count": 7,
   "outputs": [
    {
     "data": {
      "text/plain": "\"I'm sorry, but as an AI, I don't have access to personal information or the ability to know your name.\""
     },
     "execution_count": 7,
     "metadata": {},
     "output_type": "execute_result"
    }
   ],
   "source": [
    "chatGPT.chat(\n",
    "    \"What is my name?\",\n",
    ")"
   ],
   "metadata": {
    "collapsed": false,
    "ExecuteTime": {
     "end_time": "2023-10-03T04:38:17.658707Z",
     "start_time": "2023-10-03T04:38:16.742339Z"
    }
   },
   "id": "b8efdbdfe9453249"
  },
  {
   "cell_type": "code",
   "execution_count": 8,
   "outputs": [
    {
     "data": {
      "text/plain": "'Nice to meet you, Andrew! How can I assist you today?'"
     },
     "execution_count": 8,
     "metadata": {},
     "output_type": "execute_result"
    }
   ],
   "source": [
    "chatGPT.chat(\n",
    "    \"My name is Andrew\",\n",
    ")"
   ],
   "metadata": {
    "collapsed": false,
    "ExecuteTime": {
     "end_time": "2023-10-03T04:38:20.222695Z",
     "start_time": "2023-10-03T04:38:19.540465Z"
    }
   },
   "id": "f0d8f3fba41dd014"
  },
  {
   "cell_type": "code",
   "execution_count": 9,
   "outputs": [
    {
     "data": {
      "text/plain": "'Your name is Andrew, as you mentioned earlier. How can I help you, Andrew?'"
     },
     "execution_count": 9,
     "metadata": {},
     "output_type": "execute_result"
    }
   ],
   "source": [
    "chatGPT.chat(\n",
    "    \"What is my name?\",\n",
    ")"
   ],
   "metadata": {
    "collapsed": false,
    "ExecuteTime": {
     "end_time": "2023-10-03T04:38:22.906614Z",
     "start_time": "2023-10-03T04:38:22.046948Z"
    }
   },
   "id": "e47daab3eedf1ac1"
  },
  {
   "cell_type": "code",
   "execution_count": 10,
   "outputs": [
    {
     "data": {
      "text/plain": "[{'role': 'user', 'content': 'What is my name?'},\n {'role': 'assistant',\n  'content': \"I'm sorry, but as an AI, I don't have access to personal information or the ability to know your name.\"},\n {'role': 'user', 'content': 'My name is Andrew'},\n {'role': 'assistant',\n  'content': 'Nice to meet you, Andrew! How can I assist you today?'},\n {'role': 'user', 'content': 'What is my name?'},\n {'role': 'assistant',\n  'content': 'Your name is Andrew, as you mentioned earlier. How can I help you, Andrew?'}]"
     },
     "execution_count": 10,
     "metadata": {},
     "output_type": "execute_result"
    }
   ],
   "source": [
    "memory.format_messages()"
   ],
   "metadata": {
    "collapsed": false,
    "ExecuteTime": {
     "end_time": "2023-10-03T04:38:24.486815Z",
     "start_time": "2023-10-03T04:38:24.482416Z"
    }
   },
   "id": "102d337afb0380a0"
  }
 ],
 "metadata": {
  "kernelspec": {
   "display_name": "Python 3",
   "language": "python",
   "name": "python3"
  },
  "language_info": {
   "codemirror_mode": {
    "name": "ipython",
    "version": 2
   },
   "file_extension": ".py",
   "mimetype": "text/x-python",
   "name": "python",
   "nbconvert_exporter": "python",
   "pygments_lexer": "ipython2",
   "version": "2.7.6"
  }
 },
 "nbformat": 4,
 "nbformat_minor": 5
}
