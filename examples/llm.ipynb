{
 "cells": [
  {
   "cell_type": "markdown",
   "source": [
    "## Imports"
   ],
   "metadata": {
    "collapsed": false
   },
   "id": "8cbf6a3e57ac137b"
  },
  {
   "cell_type": "code",
   "execution_count": 1,
   "id": "initial_id",
   "metadata": {
    "collapsed": true,
    "ExecuteTime": {
     "end_time": "2023-10-03T04:43:18.038410Z",
     "start_time": "2023-10-03T04:43:17.976474Z"
    }
   },
   "outputs": [],
   "source": [
    "import os\n",
    "\n",
    "from dotenv import find_dotenv, load_dotenv\n",
    "\n",
    "from tinylang.llms import OpenAI"
   ]
  },
  {
   "cell_type": "markdown",
   "source": [
    "### Load environment variables"
   ],
   "metadata": {
    "collapsed": false
   },
   "id": "9837c2a823552fc"
  },
  {
   "cell_type": "code",
   "execution_count": 2,
   "outputs": [],
   "source": [
    "load_dotenv(find_dotenv())\n",
    "\n",
    "openai_api_key = os.environ[\"OPENAI_API_KEY\"]\n",
    "openai_organization = os.environ[\"OPENAI_ORGANIZATION\"]"
   ],
   "metadata": {
    "collapsed": false,
    "ExecuteTime": {
     "end_time": "2023-10-03T04:43:18.798209Z",
     "start_time": "2023-10-03T04:43:18.794403Z"
    }
   },
   "id": "65506e3e1554a323"
  },
  {
   "cell_type": "markdown",
   "source": [
    "## Using an LLM"
   ],
   "metadata": {
    "collapsed": false
   },
   "id": "2c922110640fafc6"
  },
  {
   "cell_type": "markdown",
   "source": [
    "### Regular Chat"
   ],
   "metadata": {
    "collapsed": false
   },
   "id": "5495bd85db0c50fd"
  },
  {
   "cell_type": "code",
   "execution_count": 3,
   "outputs": [],
   "source": [
    "model = \"gpt-3.5-turbo\"\n",
    "\n",
    "chatGPT = OpenAI(\n",
    "    openai_api_key=openai_api_key,\n",
    "    openai_organization=openai_organization,\n",
    "    model=model,\n",
    ")"
   ],
   "metadata": {
    "collapsed": false,
    "ExecuteTime": {
     "end_time": "2023-10-03T04:43:25.372482Z",
     "start_time": "2023-10-03T04:43:25.366339Z"
    }
   },
   "id": "a1e6390696b74aa6"
  },
  {
   "cell_type": "code",
   "execution_count": 4,
   "outputs": [
    {
     "data": {
      "text/plain": "\"Hello! I'm an AI language model, so I don't have emotions, but I'm here to help you. How can I assist you today?\""
     },
     "execution_count": 4,
     "metadata": {},
     "output_type": "execute_result"
    }
   ],
   "source": [
    "chatGPT.chat(\"Hello, how are you?\")"
   ],
   "metadata": {
    "collapsed": false,
    "ExecuteTime": {
     "end_time": "2023-10-03T04:30:09.308178Z",
     "start_time": "2023-10-03T04:30:07.887597Z"
    }
   },
   "id": "d8b88c9c66edafcf"
  },
  {
   "cell_type": "markdown",
   "source": [
    "### Streaming Chat Response"
   ],
   "metadata": {
    "collapsed": false
   },
   "id": "5fe53f72725dcdae"
  },
  {
   "cell_type": "code",
   "execution_count": 5,
   "outputs": [],
   "source": [
    "chatGPT = OpenAI(\n",
    "    openai_api_key=openai_api_key,\n",
    "    openai_organization=openai_organization,\n",
    "    model=model,\n",
    ")\n",
    "\n",
    "res = chatGPT.chat(\n",
    "    \"Explain what p-hacking is\",\n",
    "    stream=True,\n",
    "    raw_response=False,\n",
    ")"
   ],
   "metadata": {
    "collapsed": false,
    "ExecuteTime": {
     "end_time": "2023-10-03T04:30:10.215581Z",
     "start_time": "2023-10-03T04:30:09.299432Z"
    }
   },
   "id": "1f16373fcc7c8a34"
  },
  {
   "cell_type": "code",
   "execution_count": 6,
   "outputs": [
    {
     "name": "stdout",
     "output_type": "stream",
     "text": [
      "P-hacking, short for \"researcher degrees of freedom\" or \"data dredging,\" refers to the improper use of statistical analyses to obtain a desired or significant result when conducting scientific research or data analysis. It involves manipulating or selectively choosing data or analysis methods until a statistically significant result is achieved or a desired conclusion is obtained, even if the original hypothesis was weak or non-existent.\n",
      "\n",
      "It generally involves the researcher engaging in multiple iterations of data analysis, such as trying different statistical tests, excluding or including particular data points, or exploring various subsets of the data, until a significant or favorable outcome is found. This practice can lead to the creation of false positives, meaning that the observed effects or relationships in the data are not actually meaningful but are rather mere chance findings.\n",
      "\n",
      "P-hacking is considered problematic because it undermines the integrity and reliability of scientific research. It can contribute to the replication crisis, where many findings cannot be replicated by other researchers. P-hacked results can be misleading, leading to incorrect conclusions, wastage of resources, and the inability to build upon existing knowledge.\n",
      "To mitigate p-hacking, researchers are encouraged to pre-register their research plans, hypothesis, and analysis methods before data collection, to prevent post hoc adjustments that may bias the results. Additionally, practicing transparency in reporting all analyses conducted and publishing both positive and negative findings can help reduce p-hacking and improve the overall reliability of scientific research."
     ]
    }
   ],
   "source": [
    "for chunk in res:\n",
    "    print(chunk, end=\"\", flush=True)"
   ],
   "metadata": {
    "collapsed": false,
    "ExecuteTime": {
     "end_time": "2023-10-03T04:30:14.323904Z",
     "start_time": "2023-10-03T04:30:10.213453Z"
    }
   },
   "id": "831668592b5d0d78"
  },
  {
   "cell_type": "markdown",
   "source": [
    "### Raw Responses"
   ],
   "metadata": {
    "collapsed": false
   },
   "id": "71173d634db59c2"
  },
  {
   "cell_type": "markdown",
   "source": [],
   "metadata": {
    "collapsed": false
   },
   "id": "fae77ffd0aa6f8b0"
  },
  {
   "cell_type": "code",
   "execution_count": 7,
   "outputs": [
    {
     "data": {
      "text/plain": "<OpenAIObject chat.completion id=chatcmpl-85RKwcsiC8mr4VQzbMH4X7h21dyV2 at 0x107a1a9f0> JSON: {\n  \"id\": \"chatcmpl-85RKwcsiC8mr4VQzbMH4X7h21dyV2\",\n  \"object\": \"chat.completion\",\n  \"created\": 1696307414,\n  \"model\": \"gpt-3.5-turbo-0613\",\n  \"choices\": [\n    {\n      \"index\": 0,\n      \"message\": {\n        \"role\": \"assistant\",\n        \"content\": \"P-hacking refers to the practice of manipulating or analyzing data in such a way that it produces statistically significant results, even though the underlying hypothesis may have little or no real effect. It is considered a form of data manipulation or statistical fishing.\\n\\nWhen conducting scientific research or analyzing data, researchers often set a significance level (denoted as 'p') to determine whether the observed results are statistically significant or not. By convention, a p-value less than 0.05 (5%) is generally considered statistically significant. However, if researchers go through multiple iterations of analyzing their data in different ways or testing multiple hypotheses, they may unintentionally or intentionally manipulate the analysis until they achieve a statistically significant result.\\n\\nP-hacking can take various forms, such as selectively reporting only significant results while ignoring non-significant ones, cherry-picking data points, adjusting variables or parameters until the desired outcome is achieved, or performing multiple analyses without proper correction for multiple testing.\\n\\nThis practice can lead to false conclusions or overestimation of the true effect of a given variable or hypothesis, which ultimately undermines the validity and reliability of scientific research.\\n\\nTo combat p-hacking, it is important for researchers to have a priori hypotheses, clearly define the analysis plan before data collection, and pre-register the study design and analysis methods. Additionally, transparent reporting of all statistical analyses, regardless of the outcome, can help minimize the negative effects of p-hacking.\"\n      },\n      \"finish_reason\": \"stop\"\n    }\n  ],\n  \"usage\": {\n    \"prompt_tokens\": 14,\n    \"completion_tokens\": 284,\n    \"total_tokens\": 298\n  }\n}"
     },
     "execution_count": 7,
     "metadata": {},
     "output_type": "execute_result"
    }
   ],
   "source": [
    "chatGPT = OpenAI(\n",
    "    openai_api_key=openai_api_key,\n",
    "    openai_organization=openai_organization,\n",
    "    model=model,\n",
    ")\n",
    "chatGPT.chat(\n",
    "    \"Explain what p-hacking is\",\n",
    "    raw_response=True,\n",
    ")"
   ],
   "metadata": {
    "collapsed": false,
    "ExecuteTime": {
     "end_time": "2023-10-03T04:30:19.375228Z",
     "start_time": "2023-10-03T04:30:14.325295Z"
    }
   },
   "id": "9ff730e62018ada1"
  },
  {
   "cell_type": "markdown",
   "source": [
    "### Using Memory"
   ],
   "metadata": {
    "collapsed": false
   },
   "id": "e3518311d4d46c16"
  },
  {
   "cell_type": "markdown",
   "source": [
    "#### Create a ConversationMemory object, and just pass it into the LLM"
   ],
   "metadata": {
    "collapsed": false
   },
   "id": "129777c5eba870f5"
  },
  {
   "cell_type": "code",
   "execution_count": 5,
   "outputs": [],
   "source": [
    "from tinylang.memory import ConversationMemory\n",
    "\n",
    "memory = ConversationMemory()\n",
    "\n",
    "\n",
    "chatGPT = OpenAI(\n",
    "    openai_api_key=openai_api_key,\n",
    "    openai_organization=openai_organization,\n",
    "    model=model,\n",
    "    memory=memory,\n",
    ")"
   ],
   "metadata": {
    "collapsed": false,
    "ExecuteTime": {
     "end_time": "2023-10-03T04:43:51.490586Z",
     "start_time": "2023-10-03T04:43:51.487438Z"
    }
   },
   "id": "26d9b3f43d1e11f3"
  },
  {
   "cell_type": "code",
   "execution_count": 7,
   "outputs": [
    {
     "data": {
      "text/plain": "\"I'm sorry, but as an AI, I don't have access to personal information or the ability to know your name.\""
     },
     "execution_count": 7,
     "metadata": {},
     "output_type": "execute_result"
    }
   ],
   "source": [
    "chatGPT.chat(\n",
    "    \"What is my name?\",\n",
    ")"
   ],
   "metadata": {
    "collapsed": false,
    "ExecuteTime": {
     "end_time": "2023-10-03T04:38:17.658707Z",
     "start_time": "2023-10-03T04:38:16.742339Z"
    }
   },
   "id": "b8efdbdfe9453249"
  },
  {
   "cell_type": "code",
   "execution_count": 8,
   "outputs": [
    {
     "data": {
      "text/plain": "'Nice to meet you, Andrew! How can I assist you today?'"
     },
     "execution_count": 8,
     "metadata": {},
     "output_type": "execute_result"
    }
   ],
   "source": [
    "chatGPT.chat(\n",
    "    \"My name is Andrew\",\n",
    ")"
   ],
   "metadata": {
    "collapsed": false,
    "ExecuteTime": {
     "end_time": "2023-10-03T04:38:20.222695Z",
     "start_time": "2023-10-03T04:38:19.540465Z"
    }
   },
   "id": "f0d8f3fba41dd014"
  },
  {
   "cell_type": "code",
   "execution_count": 9,
   "outputs": [
    {
     "data": {
      "text/plain": "'Your name is Andrew, as you mentioned earlier. How can I help you, Andrew?'"
     },
     "execution_count": 9,
     "metadata": {},
     "output_type": "execute_result"
    }
   ],
   "source": [
    "chatGPT.chat(\n",
    "    \"What is my name?\",\n",
    ")"
   ],
   "metadata": {
    "collapsed": false,
    "ExecuteTime": {
     "end_time": "2023-10-03T04:38:22.906614Z",
     "start_time": "2023-10-03T04:38:22.046948Z"
    }
   },
   "id": "e47daab3eedf1ac1"
  },
  {
   "cell_type": "code",
   "execution_count": 10,
   "outputs": [
    {
     "data": {
      "text/plain": "[{'role': 'user', 'content': 'What is my name?'},\n {'role': 'assistant',\n  'content': \"I'm sorry, but as an AI, I don't have access to personal information or the ability to know your name.\"},\n {'role': 'user', 'content': 'My name is Andrew'},\n {'role': 'assistant',\n  'content': 'Nice to meet you, Andrew! How can I assist you today?'},\n {'role': 'user', 'content': 'What is my name?'},\n {'role': 'assistant',\n  'content': 'Your name is Andrew, as you mentioned earlier. How can I help you, Andrew?'}]"
     },
     "execution_count": 10,
     "metadata": {},
     "output_type": "execute_result"
    }
   ],
   "source": [
    "memory.format_messages()"
   ],
   "metadata": {
    "collapsed": false,
    "ExecuteTime": {
     "end_time": "2023-10-03T04:38:24.486815Z",
     "start_time": "2023-10-03T04:38:24.482416Z"
    }
   },
   "id": "102d337afb0380a0"
  }
 ],
 "metadata": {
  "kernelspec": {
   "display_name": "Python 3",
   "language": "python",
   "name": "python3"
  },
  "language_info": {
   "codemirror_mode": {
    "name": "ipython",
    "version": 2
   },
   "file_extension": ".py",
   "mimetype": "text/x-python",
   "name": "python",
   "nbconvert_exporter": "python",
   "pygments_lexer": "ipython2",
   "version": "2.7.6"
  }
 },
 "nbformat": 4,
 "nbformat_minor": 5
}
