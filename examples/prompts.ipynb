{
 "cells": [
  {
   "cell_type": "code",
   "execution_count": 1,
   "outputs": [
    {
     "data": {
      "text/plain": "'Tell me a funny joke about cats.'"
     },
     "execution_count": 1,
     "metadata": {},
     "output_type": "execute_result"
    }
   ],
   "source": [
    "from tinylang.prompts import Prompt\n",
    "\n",
    "prompt = Prompt(\"Tell me a {adjective} joke about {content}.\")\n",
    "prompt.format(adjective=\"funny\", content=\"cats\")"
   ],
   "metadata": {
    "collapsed": false,
    "ExecuteTime": {
     "end_time": "2023-10-03T05:07:12.287275Z",
     "start_time": "2023-10-03T05:07:12.281976Z"
    }
   },
   "id": "1c287a0f11b54a7b"
  },
  {
   "cell_type": "markdown",
   "source": [
    "## Usage with memory"
   ],
   "metadata": {
    "collapsed": false
   },
   "id": "ef0ec6eb7c55edb5"
  },
  {
   "cell_type": "code",
   "execution_count": 2,
   "outputs": [
    {
     "data": {
      "text/plain": "[{'role': 'user', 'content': 'Tell me a funny joke about cats.'}]"
     },
     "execution_count": 2,
     "metadata": {},
     "output_type": "execute_result"
    }
   ],
   "source": [
    "from tinylang.memory import ConversationMemory\n",
    "\n",
    "memory = ConversationMemory()\n",
    "\n",
    "prompt = Prompt(\"Tell me a {adjective} joke about {content}.\")\n",
    "\n",
    "memory.add_user_message(prompt.format(adjective=\"funny\", content=\"cats\"))\n",
    "memory.format_messages()"
   ],
   "metadata": {
    "collapsed": false,
    "ExecuteTime": {
     "end_time": "2023-10-03T05:08:11.309045Z",
     "start_time": "2023-10-03T05:08:11.297025Z"
    }
   },
   "id": "12c1ef0cb1b8d901"
  },
  {
   "cell_type": "code",
   "execution_count": null,
   "outputs": [],
   "source": [],
   "metadata": {
    "collapsed": false
   },
   "id": "704f3ee122d0fc8e"
  }
 ],
 "metadata": {
  "kernelspec": {
   "display_name": "Python 3",
   "language": "python",
   "name": "python3"
  },
  "language_info": {
   "codemirror_mode": {
    "name": "ipython",
    "version": 2
   },
   "file_extension": ".py",
   "mimetype": "text/x-python",
   "name": "python",
   "nbconvert_exporter": "python",
   "pygments_lexer": "ipython2",
   "version": "2.7.6"
  }
 },
 "nbformat": 4,
 "nbformat_minor": 5
}
